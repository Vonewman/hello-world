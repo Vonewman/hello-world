{
  "nbformat": 4,
  "nbformat_minor": 0,
  "metadata": {
    "colab": {
      "name": "RNA.ipynb",
      "version": "0.3.2",
      "provenance": [],
      "include_colab_link": true
    },
    "language_info": {
      "codemirror_mode": {
        "name": "ipython",
        "version": 3
      },
      "file_extension": ".py",
      "mimetype": "text/x-python",
      "name": "python",
      "nbconvert_exporter": "python",
      "pygments_lexer": "ipython3",
      "version": "3.6.7"
    },
    "kernelspec": {
      "display_name": "Python 3",
      "language": "python",
      "name": "python3"
    }
  },
  "cells": [
    {
      "cell_type": "markdown",
      "metadata": {
        "id": "view-in-github",
        "colab_type": "text"
      },
      "source": [
        "<a href=\"https://colab.research.google.com/github/Vonewman/hello-world/blob/master/RNA.ipynb\" target=\"_parent\"><img src=\"https://colab.research.google.com/assets/colab-badge.svg\" alt=\"Open In Colab\"/></a>"
      ]
    },
    {
      "cell_type": "code",
      "metadata": {
        "id": "oQB33hnbH6fg",
        "colab_type": "code",
        "colab": {}
      },
      "source": [
        ""
      ],
      "execution_count": 0,
      "outputs": []
    },
    {
      "cell_type": "markdown",
      "metadata": {
        "id": "3fShD9P0WTxu",
        "colab_type": "text"
      },
      "source": [
        "# Réseaux de Neurones Artificielles"
      ]
    },
    {
      "cell_type": "code",
      "metadata": {
        "id": "3k9UbYBBH6fa",
        "colab_type": "code",
        "colab": {}
      },
      "source": [
        "import numpy as np\n",
        "from sklearn.datasets import load_iris\n",
        "from sklearn.linear_model import Perceptron\n",
        "\n",
        "iris = load_iris()\n",
        "X = iris.data[:, (2,3)]  # Longueur et largeur du pétale\n",
        "y = (iris.target == 0) .astype(np.int) # Iris setosa?\n",
        "\n",
        "per_clf = Perceptron()\n",
        "per_clf.fit(X, y)\n",
        "\n",
        "y_pred = per_clf.predict([[2, 0.5]]) # égale à [1], donc iris setosa"
      ],
      "execution_count": 0,
      "outputs": []
    },
    {
      "cell_type": "code",
      "metadata": {
        "id": "w_CZ5dxLIspa",
        "colab_type": "code",
        "colab": {}
      },
      "source": [
        ""
      ],
      "execution_count": 0,
      "outputs": []
    },
    {
      "cell_type": "markdown",
      "metadata": {
        "id": "vRIHOaJnIOMI",
        "colab_type": "text"
      },
      "source": [
        "# [*Réseaux de Neurones Artificielles*](![Texte alternatif…](https:// [texte du lien](https://)))\n",
        "\n",
        "> Bloc en retrait\n",
        "\n",
        "1.   Élément de liste\n",
        "\n",
        "*   Élément de liste\n",
        "\n",
        "---\n",
        "\n",
        "\n",
        "\n",
        "*   Élément de liste\n",
        "\n",
        "\n",
        "2.   Élément de liste\n",
        "\n",
        "\n",
        "\n"
      ]
    },
    {
      "cell_type": "markdown",
      "metadata": {
        "id": "xgTU14qnIK4j",
        "colab_type": "text"
      },
      "source": [
        ""
      ]
    }
  ]
}